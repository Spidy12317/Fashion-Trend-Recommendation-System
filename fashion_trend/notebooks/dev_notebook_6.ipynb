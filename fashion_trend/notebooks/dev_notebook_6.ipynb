{
 "cells": [
  {
   "cell_type": "markdown",
   "metadata": {},
   "source": [
    "###\n",
    "---"
   ]
  },
  {
   "cell_type": "markdown",
   "metadata": {},
   "source": [
    "### Initialization"
   ]
  },
  {
   "cell_type": "code",
   "execution_count": 4,
   "metadata": {},
   "outputs": [
    {
     "data": {
      "text/plain": [
       "True"
      ]
     },
     "execution_count": 4,
     "metadata": {},
     "output_type": "execute_result"
    }
   ],
   "source": [
    "import os\n",
    "import PIL.Image\n",
    "from dotenv import load_dotenv\n",
    "import google.generativeai as genai\n",
    "load_dotenv()\n",
    "\n"
   ]
  },
  {
   "cell_type": "code",
   "execution_count": 5,
   "metadata": {},
   "outputs": [],
   "source": [
    "GOOGLE_API_KEY=os.getenv('API_KEY')\n",
    "genai.configure(api_key=GOOGLE_API_KEY)\n",
    "llm_model = genai.GenerativeModel('gemini-1.5-flash-001')\n",
    "\n",
    "def generate(prompt,img=None):\n",
    "    response = llm_model.generate_content(prompt)\n",
    "    return response.text"
   ]
  },
  {
   "cell_type": "markdown",
   "metadata": {},
   "source": [
    "###\n",
    "---"
   ]
  },
  {
   "cell_type": "markdown",
   "metadata": {},
   "source": [
    "### Enhancer Prompt for Search Query"
   ]
  },
  {
   "cell_type": "code",
   "execution_count": 9,
   "metadata": {},
   "outputs": [],
   "source": [
    "query = \"Show me some orange top\""
   ]
  },
  {
   "cell_type": "code",
   "execution_count": 17,
   "metadata": {},
   "outputs": [],
   "source": [
    "enhancer_prompt = f\"\"\"\n",
    "\n",
    "# Fashion Query Enhancement Template\n",
    "\n",
    "Given a user's search query for a fashion item, generate an enhanced query that includes more detailed information about the item's characteristics. Consider the following aspects:\n",
    "\n",
    "1. Item type (e.g., dress, shirt, pants, shoes)\n",
    "2. Style (e.g., casual, formal, bohemian, vintage)\n",
    "3. Color(s)\n",
    "4. Material(s)\n",
    "5. Pattern (if applicable)\n",
    "6. Occasion (e.g., everyday wear, party, work)\n",
    "7. Season (if applicable)\n",
    "8. Brand or designer (if mentioned)\n",
    "9. Size or fit (if mentioned)\n",
    "\n",
    "\n",
    "Original query: \"blue jeans for women\"\n",
    "Enhanced query: A women's pair of jeans that is casual and suitable for everyday wear. It features a blue denim material with a solid design. This piece is perfect for all seasons and has a regular fit.\n",
    "\n",
    "Original query: {query}\n",
    "Enhanced_Query:\n",
    "\n",
    "\"\"\"\n"
   ]
  },
  {
   "cell_type": "code",
   "execution_count": 18,
   "metadata": {},
   "outputs": [
    {
     "name": "stdout",
     "output_type": "stream",
     "text": [
      "Enhanced_Query: I'm looking for a women's top in the color orange. It could be a casual or formal style, made of cotton or silk material. I'm open to different patterns and would like it to be suitable for everyday wear or a special occasion.  \n",
      "\n"
     ]
    }
   ],
   "source": [
    "print(generate(enhancer_prompt))"
   ]
  },
  {
   "cell_type": "code",
   "execution_count": null,
   "metadata": {},
   "outputs": [],
   "source": []
  },
  {
   "cell_type": "markdown",
   "metadata": {},
   "source": [
    "###\n",
    "---"
   ]
  },
  {
   "cell_type": "markdown",
   "metadata": {},
   "source": [
    "### Response Prompt for User Query"
   ]
  },
  {
   "cell_type": "code",
   "execution_count": 19,
   "metadata": {},
   "outputs": [],
   "source": [
    "query = \"Show me some orange top\""
   ]
  },
  {
   "cell_type": "code",
   "execution_count": 20,
   "metadata": {},
   "outputs": [],
   "source": [
    "\n",
    "query_response_prompt = lambda query: f\"\"\" \n",
    "\n",
    "Given a user's search query for a fashion item, generate a brief, engaging single-line response that encourages the user to check out the displayed product recommendations. The response should be tailored to the user's query without repeating specific product details.\n",
    "\n",
    "Template:\n",
    "\"Based on your search for [QUERY_FOCUS], we've curated some [POSITIVE_ADJECTIVE] options that might catch your eye – take a look and see what you think!\"\n",
    "\n",
    "Examples:\n",
    "\n",
    "1. User query: \"summer dresses for beach vacation\"\n",
    "   Response: \"We've lined up some breezy and stylish options perfect for your beach getaway – why not explore these summer stunners?\"\n",
    "\n",
    "2. User query: \"men's formal shoes for office\"\n",
    "   Response: \"Check out these sleek and professional choices we've selected – they might be just what you need to step up your office style!\"\n",
    "\n",
    "3. User query: \"trendy sunglasses for women\"\n",
    "   Response: \"We've gathered some eye-catching and fashion-forward shades that are sure to turn heads – have a peek at these cool options!\"\n",
    "\n",
    "4. User query: \"comfortable running shoes for beginners\"\n",
    "   Response: \"Take a look at these supportive and cushioned picks we've found – they could be your perfect companions for starting your running journey!\"\n",
    "\n",
    "\n",
    "1. User query: {query}\n",
    "Response: \n",
    "\n",
    "\"\"\""
   ]
  },
  {
   "cell_type": "code",
   "execution_count": 22,
   "metadata": {},
   "outputs": [
    {
     "data": {
      "text/plain": [
       "'Response: \"We\\'ve got some vibrant and eye-catching options that are sure to brighten up your wardrobe – check them out!\" \\n'"
      ]
     },
     "execution_count": 22,
     "metadata": {},
     "output_type": "execute_result"
    }
   ],
   "source": [
    "generate(query_response_prompt(query))"
   ]
  },
  {
   "cell_type": "markdown",
   "metadata": {},
   "source": [
    "###\n",
    "---"
   ]
  },
  {
   "cell_type": "markdown",
   "metadata": {},
   "source": [
    "### Classification Prompt for User Query"
   ]
  },
  {
   "cell_type": "code",
   "execution_count": 23,
   "metadata": {},
   "outputs": [],
   "source": [
    "query = \"Show me some orange tops\""
   ]
  },
  {
   "cell_type": "code",
   "execution_count": 25,
   "metadata": {},
   "outputs": [],
   "source": [
    "query_classification_prompt = lambda query:f\"\"\"\n",
    "\n",
    "Given a user's query related to fashion, classify it into one of the following categories:\n",
    "1. #SQ#: Search related Query\n",
    "2. #PH#: Purchase History related Query\n",
    "3. #WB#: Picking Outfit From Wardrobe related Query\n",
    "\n",
    "Analyze the query and determine which category it belongs to based on the following criteria:\n",
    "\n",
    "1. #SQ# (Search related Query):\n",
    "   - Contains keywords related to finding or searching for specific items\n",
    "   - Asks about product availability, styles, or trends\n",
    "   - Inquires about general fashion information\n",
    "\n",
    "2. #PH# (Purchase History related Query):\n",
    "   - References past purchases or orders\n",
    "   - Asks about order status, returns, or exchanges\n",
    "   - Inquires about previously bought items or recommendations based on past purchases\n",
    "\n",
    "3. #WB# (Picking Outfit From Wardrobe related Query):\n",
    "   - Asks for advice on putting together outfits\n",
    "   - References items the user already owns\n",
    "   - Seeks suggestions for styling existing pieces\n",
    "\n",
    "Based on these criteria, classify the query as:\n",
    "\n",
    "Examples:\n",
    "\n",
    "1. User Query: \"Where can I find red high heels for a party?\"\n",
    "   Classification: #SQ#\n",
    "\n",
    "2. User Query: \"When will my order of blue jeans arrive?\"\n",
    "   Classification: #PH#\n",
    "\n",
    "3. User Query: \"How can I style my black dress for a casual day out?\"\n",
    "   Classification: #WB#\n",
    "```\n",
    "\n",
    "User Query: {query}\n",
    "Classification: [INSERT CLASSIFICATION HERE (#SQ#, #PH#, or #WB#)]\n",
    "   \n",
    "\"\"\""
   ]
  },
  {
   "cell_type": "code",
   "execution_count": 30,
   "metadata": {},
   "outputs": [
    {
     "data": {
      "text/plain": [
       "'The classification for the query \"Can you recommend me something similar to my red dress?\" is **#PH#**. \\n\\nHere\\'s why:\\n\\n* The query references a past purchase (the \"red dress\"). \\n* It asks for a recommendation based on that past purchase. \\n\\nThis aligns with the criteria for a Purchase History related Query (#PH#). \\n'"
      ]
     },
     "execution_count": 30,
     "metadata": {},
     "output_type": "execute_result"
    }
   ],
   "source": [
    "generate(query_classification_prompt(\"Can you reccommend me something similar to my red dress?\"))"
   ]
  },
  {
   "cell_type": "code",
   "execution_count": 31,
   "metadata": {},
   "outputs": [
    {
     "data": {
      "text/plain": [
       "['The classification for the query \"Can you recommend me something similar to my red dress?\" is **',\n",
       " 'PH',\n",
       " '**. \\n\\nHere\\'s why:\\n\\n* The query references a past purchase (the \"red dress\"). \\n* It asks for a recommendation based on that past purchase. \\n\\nThis aligns with the criteria for a Purchase History related Query (',\n",
       " 'PH',\n",
       " '). \\n']"
      ]
     },
     "execution_count": 31,
     "metadata": {},
     "output_type": "execute_result"
    }
   ],
   "source": []
  },
  {
   "cell_type": "code",
   "execution_count": 33,
   "metadata": {},
   "outputs": [
    {
     "name": "stdout",
     "output_type": "stream",
     "text": [
      "['PH', 'PH']\n"
     ]
    }
   ],
   "source": [
    "\n",
    "text = 'The classification for the query \"Can you recommend me something similar to my red dress?\" is **#PH#**. \\n\\nHere\\'s why:\\n\\n* The query references a past purchase (the \"red dress\"). \\n* It asks for a recommendation based on that past purchase. \\n\\nThis aligns with the criteria for a Purchase History related Query (#PH#). \\n'\n",
    "pattern = r'#([^#]+)#'\n",
    "\n",
    "matches = re.findall(pattern, text)\n",
    "print(matches)  # Output: ['SQ', 'PH']"
   ]
  },
  {
   "cell_type": "markdown",
   "metadata": {},
   "source": [
    "###\n",
    "---"
   ]
  },
  {
   "cell_type": "markdown",
   "metadata": {},
   "source": [
    "### General Response Prompt for User Query"
   ]
  },
  {
   "cell_type": "code",
   "execution_count": 1,
   "metadata": {},
   "outputs": [],
   "source": [
    "query = \"Hello There\""
   ]
  },
  {
   "cell_type": "code",
   "execution_count": 6,
   "metadata": {},
   "outputs": [],
   "source": [
    "general_query_response_prompt = lambda query:f\"\"\"\n",
    "You are a friendly AI assistant specialized in fashion. Your responses should be brief, casual, and have a hint of personality. When given a query, follow these guidelines:\n",
    "\n",
    "1. If the query is fashion-related:\n",
    "   - Provide a short, helpful response\n",
    "   - Use a conversational tone\n",
    "   - Feel free to add a touch of humor or enthusiasm when appropriate\n",
    "\n",
    "2. If the query is not fashion-related:\n",
    "   - Politely redirect the user to ask about fashion\n",
    "   - Use a friendly, casual tone\n",
    "   - Maybe throw in a fashion-related quip or pun\n",
    "\n",
    "Examples:\n",
    "\n",
    "User: \"What's trending in summer fashion?\"\n",
    "Assistant: Ooh, summer vibes! Think breezy linen, bold prints, and oversized sunnies. Crop tops are having a moment too – if you dare!\n",
    "\n",
    "User: \"How do I solve this math equation?\"\n",
    "Assistant: Math? That's not really my strong suit. How about we talk threads instead of theorems? Got any fashion puzzles you need cracking?\n",
    "\n",
    "User: \"What should I wear to a beach wedding?\"\n",
    "Assistant: Beach wedding? Lucky you! Go for flowy fabrics in pastel shades. A breezy maxi dress or linen suit would be *chef's kiss*. Don't forget comfy sandals – sand and stilettos don't mix!\n",
    "\n",
    "User: \"Can you recommend a good restaurant?\"\n",
    "Assistant: Ah, I'm more about feeding your fashion appetite than your stomach! How about we dish on the latest style trends instead? What's your fashion craving?\n",
    "\n",
    "\n",
    "User: {query}\n",
    "Assistant:\n",
    "\n",
    "\"\"\""
   ]
  },
  {
   "cell_type": "code",
   "execution_count": 10,
   "metadata": {},
   "outputs": [
    {
     "data": {
      "text/plain": [
       "\"You got it!  2+2 is definitely 4.  But let's be honest, that's a much more straightforward equation than figuring out what to wear to a cocktail party! What outfit dilemmas are you facing? \\n\""
      ]
     },
     "execution_count": 10,
     "metadata": {},
     "output_type": "execute_result"
    }
   ],
   "source": [
    "generate(general_query_response_prompt(\"Is 2+2 equal to 4\"))"
   ]
  },
  {
   "cell_type": "code",
   "execution_count": null,
   "metadata": {},
   "outputs": [],
   "source": []
  },
  {
   "cell_type": "markdown",
   "metadata": {},
   "source": []
  }
 ],
 "metadata": {
  "kernelspec": {
   "display_name": "fashion_trend",
   "language": "python",
   "name": "python3"
  },
  "language_info": {
   "codemirror_mode": {
    "name": "ipython",
    "version": 3
   },
   "file_extension": ".py",
   "mimetype": "text/x-python",
   "name": "python",
   "nbconvert_exporter": "python",
   "pygments_lexer": "ipython3",
   "version": "3.10.14"
  }
 },
 "nbformat": 4,
 "nbformat_minor": 2
}
