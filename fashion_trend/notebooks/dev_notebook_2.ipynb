{
 "cells": [
  {
   "cell_type": "markdown",
   "metadata": {},
   "source": [
    "# Scrapper Tests"
   ]
  },
  {
   "cell_type": "markdown",
   "metadata": {},
   "source": [
    "### \n",
    "___"
   ]
  },
  {
   "cell_type": "markdown",
   "metadata": {},
   "source": [
    "### Pinterest"
   ]
  },
  {
   "cell_type": "markdown",
   "metadata": {},
   "source": [
    "#### Importing Libraries"
   ]
  },
  {
   "cell_type": "code",
   "execution_count": null,
   "metadata": {},
   "outputs": [],
   "source": [
    "import os\n",
    "import sys\n",
    "\n",
    "import uuid\n",
    "import requests\n",
    "from PIL import Image\n",
    "from io import BytesIO\n",
    "from tqdm import tqdm\n",
    "import pandas as pd\n",
    "\n",
    "\n",
    "relative_path_to_script = '../utils'\n",
    "absolute_path_to_script = os.path.abspath(relative_path_to_script)\n",
    "sys.path.append(absolute_path_to_script)\n",
    "\n",
    "from pintrest_scraper import scraper\n"
   ]
  },
  {
   "cell_type": "code",
   "execution_count": null,
   "metadata": {},
   "outputs": [],
   "source": []
  },
  {
   "cell_type": "markdown",
   "metadata": {},
   "source": [
    "#### Initializing Inputs and Outputs"
   ]
  },
  {
   "cell_type": "code",
   "execution_count": null,
   "metadata": {},
   "outputs": [],
   "source": [
    "list_keywords = [\"Asmita Kaushik\",\"Masoom Minawala\",\"Roshni Bhatia\",\"Trendy Fashion\",\"India Street Fashion\"]\n",
    "no_of_image = 1\n",
    "\n",
    "directory = \"/Users/t.sumukhflexday/Desktop/Projects/Test/fashion_trend/fashion_trend/data/pinterest\"\n",
    "os.makedirs(directory, exist_ok=True)"
   ]
  },
  {
   "cell_type": "code",
   "execution_count": null,
   "metadata": {},
   "outputs": [],
   "source": []
  },
  {
   "cell_type": "markdown",
   "metadata": {},
   "source": [
    "#### Scraping Data"
   ]
  },
  {
   "cell_type": "code",
   "execution_count": null,
   "metadata": {},
   "outputs": [],
   "source": [
    "pintrest_df = pd.DataFrame(columns=[\"Image ID\",\"Image Source\", \"Image Link\"])"
   ]
  },
  {
   "cell_type": "code",
   "execution_count": null,
   "metadata": {},
   "outputs": [],
   "source": [
    "for keyword in list_keywords:\n",
    "    details = scraper.scrape(keyword,max_images = no_of_image)\n",
    "\n",
    "    print(keyword)\n",
    "\n",
    "    if not details[\"isDownloaded\"]:\n",
    "        print(\"\\nNothing to download !!\",end = \"\\n---------------------\\n\")\n",
    "        continue\n",
    "\n",
    "    \n",
    "    print(\"\\nDownloading completed !!\")\n",
    "    image_ids = {}\n",
    "\n",
    "    for url in tqdm(details['url_list']):\n",
    "\n",
    "        namespace = uuid.NAMESPACE_DNS\n",
    "        image_id = uuid.uuid3(namespace, url)\n",
    "\n",
    "        if(image_id in image_ids):continue\n",
    "\n",
    "        image_ids[image_id] = 1 \n",
    "        response = requests.get(url)\n",
    "        image = Image.open(BytesIO(response.content))\n",
    "        image.save(f\"{directory}/{image_id}.png\")\n",
    "\n",
    "        row = {\"Image ID\":image_id,\"Image Source\":\"Pinterest\", \"Image Link\":url}\n",
    "        pintrest_df = pd.concat([pintrest_df,pd.DataFrame([row])],ignore_index=True)\n",
    "\n",
    "    print(\"\\n-------------------------------\\n\")\n",
    "\n",
    "\n",
    "pintrest_df.to_csv(f\"{directory}/pintrest_trend.csv\",index=False)\n"
   ]
  },
  {
   "cell_type": "code",
   "execution_count": null,
   "metadata": {},
   "outputs": [],
   "source": []
  },
  {
   "cell_type": "markdown",
   "metadata": {},
   "source": [
    "#### Final Function"
   ]
  },
  {
   "cell_type": "code",
   "execution_count": null,
   "metadata": {},
   "outputs": [],
   "source": [
    "import os\n",
    "import sys\n",
    "\n",
    "import uuid\n",
    "import requests\n",
    "from PIL import Image\n",
    "from io import BytesIO\n",
    "from tqdm import tqdm\n",
    "import pandas as pd\n",
    "\n",
    "\n",
    "relative_path_to_script = '../utils'\n",
    "absolute_path_to_script = os.path.abspath(relative_path_to_script)\n",
    "sys.path.append(absolute_path_to_script)\n",
    "\n",
    "\n",
    "from pintrest_scraper import scraper"
   ]
  },
  {
   "cell_type": "code",
   "execution_count": null,
   "metadata": {},
   "outputs": [],
   "source": [
    "def scrape_pinterest_data(list_keywords:list[str],no_of_images_per_keyword:int,output_folder_path:str,save_data_frame:bool = False) -> pd.DataFrame:\n",
    "\n",
    "    pintrest_df = pd.DataFrame(columns=[\"Image ID\",\"Image Source\", \"Image Link\"])\n",
    "\n",
    "    for keyword in list_keywords:\n",
    "        details = scraper.scrape(keyword,max_images = no_of_images_per_keyword)\n",
    "\n",
    "        print(keyword)\n",
    "\n",
    "        if not details[\"isDownloaded\"]:\n",
    "            print(\"\\nNothing to download !!\",end = \"\\n-------------------------------\\n\")\n",
    "            continue\n",
    "\n",
    "        \n",
    "        print(\"\\nDownloading completed !!\")\n",
    "        image_ids = {}\n",
    "\n",
    "        for url in tqdm(details['url_list']):\n",
    "\n",
    "            namespace = uuid.NAMESPACE_DNS\n",
    "            image_id = uuid.uuid3(namespace, url)\n",
    "\n",
    "            if(image_id in image_ids):continue\n",
    "\n",
    "            image_ids[image_id] = 1 \n",
    "            response = requests.get(url)\n",
    "            image = Image.open(BytesIO(response.content))\n",
    "            image.save(f\"{directory}/{image_id}.png\")\n",
    "\n",
    "            row = {\"Image ID\":image_id,\"Image Source\":\"Pinterest\", \"Image Link\":url}\n",
    "            pintrest_df = pd.concat([pintrest_df,pd.DataFrame([row])],ignore_index=True)\n",
    "\n",
    "        print(\"\\n-------------------------------\\n\")\n",
    "\n",
    "    if(save_data_frame):pintrest_df.to_csv(f\"{output_folder_path}/pintrest_trend.csv\",index=False)\n",
    "    \n",
    "    return pintrest_df\n"
   ]
  },
  {
   "cell_type": "markdown",
   "metadata": {},
   "source": [
    "#### Usecase Example"
   ]
  },
  {
   "cell_type": "code",
   "execution_count": null,
   "metadata": {},
   "outputs": [],
   "source": [
    "list_keywords = [\"Asmita Kaushik\",\"Masoom Minawala\",\"Roshni Bhatia\",\"Trendy Fashion\",\"India Street Fashion\"]\n",
    "\n",
    "directory = \"/Users/t.sumukhflexday/Desktop/Projects/Test/fashion_trend/fashion_trend/data/pinterest\"\n",
    "os.makedirs(directory, exist_ok=True)\n",
    "\n",
    "pintrest_df = scrape_pinterest_data(list_keywords,no_of_images_per_keyword=1,output_folder_path=directory,save_data_frame=True)"
   ]
  },
  {
   "cell_type": "code",
   "execution_count": null,
   "metadata": {},
   "outputs": [],
   "source": []
  },
  {
   "cell_type": "markdown",
   "metadata": {},
   "source": [
    "###\n",
    "---"
   ]
  },
  {
   "cell_type": "markdown",
   "metadata": {},
   "source": [
    "### Myntra "
   ]
  },
  {
   "cell_type": "markdown",
   "metadata": {},
   "source": [
    "#### Importing Libraries"
   ]
  },
  {
   "cell_type": "code",
   "execution_count": null,
   "metadata": {},
   "outputs": [],
   "source": [
    "import os \n",
    "import requests\n",
    "from PIL import Image\n",
    "from io import BytesIO\n",
    "from tqdm import tqdm\n",
    "import uuid\n",
    "import pandas as pd"
   ]
  },
  {
   "cell_type": "code",
   "execution_count": null,
   "metadata": {},
   "outputs": [],
   "source": []
  },
  {
   "cell_type": "markdown",
   "metadata": {},
   "source": [
    "#### Initializing Inputs and Outputs"
   ]
  },
  {
   "cell_type": "code",
   "execution_count": null,
   "metadata": {},
   "outputs": [],
   "source": [
    "df = pd.read_csv('/Users/t.sumukhflexday/Desktop/Projects/Test/fashion_trend/fashion_trend/data/myntra_raw_data.csv')\n",
    "\n",
    "directory = \"/Users/t.sumukhflexday/Desktop/Projects/Test/fashion_trend/fashion_trend/data/myntra\"\n",
    "os.makedirs(directory, exist_ok=True)"
   ]
  },
  {
   "cell_type": "code",
   "execution_count": null,
   "metadata": {},
   "outputs": [],
   "source": []
  },
  {
   "cell_type": "markdown",
   "metadata": {},
   "source": [
    "#### Scraping Data"
   ]
  },
  {
   "cell_type": "code",
   "execution_count": null,
   "metadata": {},
   "outputs": [],
   "source": [
    "myntra_df = pd.DataFrame(columns=[\"Image ID\",\"Image Source\", \"Image Link\"])"
   ]
  },
  {
   "cell_type": "code",
   "execution_count": null,
   "metadata": {},
   "outputs": [],
   "source": [
    "image_ids = {}\n",
    "\n",
    "for url in tqdm(df['img-responsive src']):\n",
    "\n",
    "    namespace = uuid.NAMESPACE_DNS\n",
    "    image_id = uuid.uuid3(namespace, url)\n",
    "\n",
    "    if(image_id in image_ids):continue\n",
    "\n",
    "    image_ids[image_id] = 1 \n",
    "    response = requests.get(url)\n",
    "    image = Image.open(BytesIO(response.content))\n",
    "    image.save(f\"{directory}/{image_id}.png\")\n",
    "\n",
    "    row = {\"Image ID\":image_id,\"Image Source\":\"Pinterest\", \"Image Link\":url}\n",
    "    myntra_df = pd.concat([myntra_df,pd.DataFrame([row])],ignore_index=True)\n",
    "\n",
    "\n",
    "myntra_df.to_csv(f\"{directory}/myntra_trend.csv\",index=False)"
   ]
  },
  {
   "cell_type": "markdown",
   "metadata": {},
   "source": [
    "#### Final Function"
   ]
  },
  {
   "cell_type": "code",
   "execution_count": null,
   "metadata": {},
   "outputs": [],
   "source": [
    "import os \n",
    "import requests\n",
    "from PIL import Image\n",
    "from io import BytesIO\n",
    "from tqdm import tqdm\n",
    "import uuid\n",
    "import pandas as pd"
   ]
  },
  {
   "cell_type": "code",
   "execution_count": null,
   "metadata": {},
   "outputs": [],
   "source": [
    "def process_myntra_data(df:pd.DataFrame,output_folder_path:str,save_data_frame:bool = False) -> pd.DataFrame:\n",
    "    image_ids = {}\n",
    "    myntra_df = pd.DataFrame(columns=[\"Image ID\",\"Image Source\", \"Image Link\"])\n",
    "\n",
    "    for url in tqdm(df['img-responsive src']):\n",
    "\n",
    "        namespace = uuid.NAMESPACE_DNS\n",
    "        image_id = uuid.uuid3(namespace, url)\n",
    "\n",
    "        if(image_id in image_ids):continue\n",
    "\n",
    "        image_ids[image_id] = 1 \n",
    "        response = requests.get(url)\n",
    "        image = Image.open(BytesIO(response.content))\n",
    "        image.save(f\"{directory}/{image_id}.png\")\n",
    "\n",
    "        row = {\"Image ID\":image_id,\"Image Source\":\"Pinterest\", \"Image Link\":url}\n",
    "        myntra_df = pd.concat([myntra_df,pd.DataFrame([row])],ignore_index=True)\n",
    "\n",
    "\n",
    "    if(save_data_frame):myntra_df.to_csv(f\"{output_folder_path}/myntra_trend.csv\",index=False)\n",
    "    return myntra_df"
   ]
  },
  {
   "cell_type": "markdown",
   "metadata": {},
   "source": [
    "#### Usecase Example"
   ]
  },
  {
   "cell_type": "code",
   "execution_count": null,
   "metadata": {},
   "outputs": [],
   "source": [
    "df = pd.read_csv('/Users/t.sumukhflexday/Desktop/Projects/Test/fashion_trend/fashion_trend/data/myntra_raw_data.csv')\n",
    "\n",
    "directory = \"/Users/t.sumukhflexday/Desktop/Projects/Test/fashion_trend/fashion_trend/data/myntra\"\n",
    "os.makedirs(directory, exist_ok=True)\n",
    "\n",
    "\n",
    "temp = process_myntra_data(df = df,output_folder_path=directory,save_data_frame=True)"
   ]
  },
  {
   "cell_type": "code",
   "execution_count": null,
   "metadata": {},
   "outputs": [],
   "source": []
  },
  {
   "cell_type": "markdown",
   "metadata": {},
   "source": [
    "### \n",
    "___"
   ]
  },
  {
   "cell_type": "code",
   "execution_count": null,
   "metadata": {},
   "outputs": [],
   "source": []
  }
 ],
 "metadata": {
  "kernelspec": {
   "display_name": "fashion_trend",
   "language": "python",
   "name": "python3"
  },
  "language_info": {
   "codemirror_mode": {
    "name": "ipython",
    "version": 3
   },
   "file_extension": ".py",
   "mimetype": "text/x-python",
   "name": "python",
   "nbconvert_exporter": "python",
   "pygments_lexer": "ipython3",
   "version": "3.10.14"
  }
 },
 "nbformat": 4,
 "nbformat_minor": 2
}
